{
 "cells": [
  {
   "cell_type": "code",
   "execution_count": null,
   "id": "8b2b2b73",
   "metadata": {},
   "outputs": [],
   "source": [
    "from flask import Flask, request, jsonify\n",
    "from flask_sqlalchemy import SQLAlchemy\n",
    "import logging\n",
    "from datetime import datetime\n",
    "\n",
    "app = Flask(__name__)\n",
    "app.config['SQLALCHEMY_DATABASE_URI'] = 'sqlite:///numbers.db'\n",
    "db = SQLAlchemy(app)\n",
    "\n",
    "# Модель для хранения чисел\n",
    "class Number(db.Model):\n",
    "    id = db.Column(db.Integer, primary_key=True)\n",
    "    value = db.Column(db.Integer, unique=True, nullable=False)\n",
    "\n",
    "# Модель для хранения логов\n",
    "class Log(db.Model):\n",
    "    id = db.Column(db.Integer, primary_key=True)\n",
    "    message = db.Column(db.String(255), nullable=False)\n",
    "    created_at = db.Column(db.DateTime, default=datetime.utcnow)\n",
    "\n",
    "# Создание таблиц\n",
    "with app.app_context():\n",
    "    db.create_all()\n",
    "\n",
    "@app.route('/process', methods=['POST'])\n",
    "def process_number():\n",
    "    data = request.get_json()\n",
    "    number = data.get('number')\n",
    "    \n",
    "    if not isinstance(number, int) or number < 0:\n",
    "        return jsonify({'error': 'Invalid number'}), 400\n",
    "    \n",
    "    # Проверка на уникальность числа\n",
    "    if Number.query.filter_by(value=number).first():\n",
    "        error_message = f'Number {number} has already been processed.'\n",
    "        db.session.add(Log(message=error_message))\n",
    "        db.session.commit()\n",
    "        return jsonify({'error': error_message}), 400\n",
    "\n",
    "    # Сохранение числа\n",
    "    db.session.add(Number(value=number))\n",
    "    db.session.commit()\n",
    "\n",
    "    # Увеличение числа\n",
    "    return jsonify({'result': number + 1})\n",
    "\n",
    "if __name__ == '__main__':\n",
    "    app.run(debug=True, port=5000)"
   ]
  },
  {
   "cell_type": "code",
   "execution_count": null,
   "id": "502da140",
   "metadata": {},
   "outputs": [],
   "source": []
  }
 ],
 "metadata": {
  "kernelspec": {
   "display_name": "Python 3 (ipykernel)",
   "language": "python",
   "name": "python3"
  },
  "language_info": {
   "codemirror_mode": {
    "name": "ipython",
    "version": 3
   },
   "file_extension": ".py",
   "mimetype": "text/x-python",
   "name": "python",
   "nbconvert_exporter": "python",
   "pygments_lexer": "ipython3",
   "version": "3.11.4"
  }
 },
 "nbformat": 4,
 "nbformat_minor": 5
}
